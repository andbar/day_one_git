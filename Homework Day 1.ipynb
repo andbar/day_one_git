{
 "cells": [
  {
   "cell_type": "code",
   "execution_count": 22,
   "metadata": {
    "collapsed": false
   },
   "outputs": [
    {
     "name": "stdout",
     "output_type": "stream",
     "text": [
      "Please type a word or sentence: This is si siht\n",
      "Congratulations! Your word or sentence is a palindrome!\n"
     ]
    }
   ],
   "source": [
    "def palindrome_checker():\n",
    "    new_word = input(\"Please type a word or sentence: \")\n",
    "    new_word = new_word.replace(\" \", \"\")\n",
    "    new_word = new_word.lower()\n",
    "\n",
    "    if new_word == new_word[::-1]:\n",
    "        print(\"Congratulations! Your word or sentence is a palindrome!\")\n",
    "    else:\n",
    "        print(\"Sorry! Your word or sentence is not a palindrome. \")\n",
    "\n",
    "palindrome_checker()"
   ]
  },
  {
   "cell_type": "code",
   "execution_count": null,
   "metadata": {
    "collapsed": true
   },
   "outputs": [],
   "source": []
  }
 ],
 "metadata": {
  "kernelspec": {
   "display_name": "Python 3",
   "language": "python",
   "name": "python3"
  },
  "language_info": {
   "codemirror_mode": {
    "name": "ipython",
    "version": 3
   },
   "file_extension": ".py",
   "mimetype": "text/x-python",
   "name": "python",
   "nbconvert_exporter": "python",
   "pygments_lexer": "ipython3",
   "version": "3.5.0"
  }
 },
 "nbformat": 4,
 "nbformat_minor": 0
}
